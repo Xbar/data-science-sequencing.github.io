{
 "cells": [
  {
   "cell_type": "markdown",
   "metadata": {},
   "source": [
    "## Question III: Read alignment (Programming)"
   ]
  },
  {
   "cell_type": "markdown",
   "metadata": {},
   "source": [
    "### Naive aligner"
   ]
  },
  {
   "cell_type": "markdown",
   "metadata": {},
   "source": [
    "<font color='#4863A0'>\n",
    "\n",
    "Write a function that computes the edit distance between two strings. You can use standard libraries such as [editdistance](https://pypi.python.org/pypi/editdistance) to check the correctness of your function. The input should be two strings each of at least length 2. The output should be a float representing the edit distance between the two input strings.</font>"
   ]
  },
  {
   "cell_type": "code",
   "execution_count": null,
   "metadata": {
    "collapsed": true
   },
   "outputs": [],
   "source": []
  },
  {
   "cell_type": "markdown",
   "metadata": {},
   "source": [
    "<font color='#4863A0'>Write a function that generates random reads. The input should be the number of reads generated $N$ and the length $L$ of each read generated. The output should be $N$ random length-$L$ sequences of nucleotides.</font>"
   ]
  },
  {
   "cell_type": "code",
   "execution_count": null,
   "metadata": {
    "collapsed": true
   },
   "outputs": [],
   "source": []
  },
  {
   "cell_type": "markdown",
   "metadata": {},
   "source": [
    "<font color='#4863A0'>How can you use the above two functions to perform alignment? What issues do you see with this approach? (3-4 sentences).</font>"
   ]
  },
  {
   "cell_type": "markdown",
   "metadata": {},
   "source": []
  },
  {
   "cell_type": "markdown",
   "metadata": {},
   "source": [
    "<font color='#4863A0'>For $L$ = 10, generate two reads of length $L$ and compute their edit distance. Average your result over 100 runs to obtain an estimate of the average edit distance $\\hat{d}_L$ of two randomly generated reads of length $L$. Repeat for $L$ = 1, 100, 1000, and 10000. Plot $\\hat{d}_L$ as a function of $L$ with error bars.</font>"
   ]
  },
  {
   "cell_type": "code",
   "execution_count": null,
   "metadata": {
    "collapsed": true
   },
   "outputs": [],
   "source": []
  },
  {
   "cell_type": "markdown",
   "metadata": {},
   "source": [
    "<font color='#4863A0'> Do you observe any trends? What can you say about how well random strings align? (1-2 sentences). </font>"
   ]
  },
  {
   "cell_type": "markdown",
   "metadata": {},
   "source": []
  },
  {
   "cell_type": "markdown",
   "metadata": {},
   "source": [
    "### Bowtie"
   ]
  },
  {
   "cell_type": "markdown",
   "metadata": {},
   "source": [
    "<font color='#4863A0'> How many distinct 20-length substrings do you see across all reads? These substrings are commonly referred to as $k$-mers where $k$ = 20. Count how often each distinct 20-mer appears and generate a histogram of the counts. (_Hint_: Note that initializing a length-$4^{20}$ array may not be a viable approach. Consider using dictionaries!) </font>"
   ]
  },
  {
   "cell_type": "code",
   "execution_count": null,
   "metadata": {
    "collapsed": true
   },
   "outputs": [],
   "source": []
  }
 ],
 "metadata": {
  "kernelspec": {
   "display_name": "Python 2",
   "language": "python",
   "name": "python2"
  },
  "language_info": {
   "codemirror_mode": {
    "name": "ipython",
    "version": 2
   },
   "file_extension": ".py",
   "mimetype": "text/x-python",
   "name": "python",
   "nbconvert_exporter": "python",
   "pygments_lexer": "ipython2",
   "version": "2.7.10"
  }
 },
 "nbformat": 4,
 "nbformat_minor": 0
}
